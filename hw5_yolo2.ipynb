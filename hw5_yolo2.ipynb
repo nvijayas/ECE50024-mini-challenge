{
 "cells": [
  {
   "cell_type": "markdown",
   "metadata": {},
   "source": [
    "### Download Dataset"
   ]
  },
  {
   "cell_type": "code",
   "execution_count": null,
   "metadata": {},
   "outputs": [],
   "source": [
    "!gdown 1J-gnuvPoanMfM52RTY2IpdHOaVL36L3e\n",
    "!unzip train.zip\n",
    "!rm -rf /home/bridge/c/nvijayas/ECE50024/__MACOSX"
   ]
  },
  {
   "cell_type": "markdown",
   "metadata": {},
   "source": [
    "### Extract Faces"
   ]
  },
  {
   "cell_type": "code",
   "execution_count": 2,
   "metadata": {},
   "outputs": [],
   "source": [
    "import os, random, csv, pickle, cv2, shutil, dlib\n",
    "from PIL import Image\n",
    "import matplotlib.pyplot as plt\n",
    "import multiprocessing\n",
    "import numpy as np\n",
    "from ultralytics import YOLO"
   ]
  },
  {
   "cell_type": "code",
   "execution_count": 18,
   "metadata": {},
   "outputs": [
    {
     "data": {
      "text/plain": [
       "69540"
      ]
     },
     "execution_count": 18,
     "metadata": {},
     "output_type": "execute_result"
    }
   ],
   "source": [
    "folder_path = 'train'\n",
    "image_files = [(os.path.join(folder_path, f), f) for f in os.listdir(folder_path) if os.path.isfile(os.path.join(folder_path, f))]\n",
    "len(image_files)"
   ]
  },
  {
   "cell_type": "code",
   "execution_count": null,
   "metadata": {},
   "outputs": [],
   "source": [
    "# Splitting the list\n",
    "quarter_length = len(image_files) // 4\n",
    "q1_imFiles = image_files[:quarter_length]\n",
    "q2_imFiles = image_files[quarter_length:2*quarter_length]\n",
    "q3_imFiles = image_files[2*quarter_length:3*quarter_length]\n",
    "q4_imFiles = image_files[3*quarter_length:]\n",
    "\n",
    "# Pickling the lists\n",
    "with open('q1_imFiles.pkl', 'wb') as f:\n",
    "  pickle.dump(q1_imFiles, f)\n",
    "with open('q2_imFiles.pkl', 'wb') as f:\n",
    "  pickle.dump(q2_imFiles, f)\n",
    "with open('q3_imFiles.pkl', 'wb') as f:\n",
    "  pickle.dump(q3_imFiles, f)\n",
    "with open('q4_imFiles.pkl', 'wb') as f:\n",
    "  pickle.dump(q4_imFiles, f)"
   ]
  },
  {
   "cell_type": "code",
   "execution_count": 2,
   "metadata": {},
   "outputs": [],
   "source": [
    "def getOGlabels(csv_path, ):\n",
    "  original_labels = {}\n",
    "  with open(csv_path, mode='r') as infile:\n",
    "    reader = csv.reader(infile)\n",
    "    next(reader, None)\n",
    "    for row in reader:\n",
    "      original_labels[row[1]] = row[2]\n",
    "\n",
    "  return original_labels\n",
    "\n",
    "\n",
    "# For the face extraction, the following code in this link referenced\n",
    "# https://towardsdatascience.com/face-detection-in-2-minutes-using-opencv-python-90f89d7c0f81\n",
    "def process(imFiles, output_folder, new_csv_path, original_labels, pName):\n",
    "\n",
    "  detector = dlib.get_frontal_face_detector()\n",
    "  noFace = 0\n",
    "  multiFace = 0\n",
    "  noLabel = 0\n",
    "  someFileErr = 0\n",
    "\n",
    "  with open(new_csv_path, mode='w', newline='') as outfile:\n",
    "    writer = csv.writer(outfile)\n",
    "    writer.writerow(['filename', 'label'])\n",
    "\n",
    "    for ctr, fileInfo in enumerate(imFiles):\n",
    "\n",
    "      if (ctr + 1) % 1000 == 0:\n",
    "        print(f\"{pName}: {ctr + 1}\")\n",
    "\n",
    "      filePath, fileName = fileInfo[0], fileInfo[1]\n",
    "      label = original_labels[fileName]\n",
    "\n",
    "      if not label:\n",
    "        noLabel += 1\n",
    "        continue\n",
    "\n",
    "      try:\n",
    "        pil_image = Image.open(filePath).convert('RGB')  # filePath is the path to your image file\n",
    "        img = np.array(pil_image)\n",
    "        detected_faces = detector(img, 1)\n",
    "\n",
    "        if len(detected_faces) == 0:\n",
    "          noFace += 1\n",
    "          continue\n",
    "        elif len(detected_faces) > 1:\n",
    "          multiFace += 1\n",
    "          continue\n",
    "        else:\n",
    "          face_rect = detected_faces[0]\n",
    "          \n",
    "          # Adjusted coordinates with a 2-pixel boundary, and clamped to the image bounds\n",
    "          left = max(face_rect.left() - 2, 0)\n",
    "          top = max(face_rect.top() - 2, 0)\n",
    "          right = min(face_rect.right() + 2, img.shape[1])\n",
    "          bottom = min(face_rect.bottom() + 2, img.shape[0])\n",
    "\n",
    "          cropped_img = Image.fromarray(img, 'RGB').crop((left, top, right, bottom))\n",
    "          cropped_img = cropped_img.resize((64, 64))\n",
    "\n",
    "          new_filename = f\"{fileName.rsplit('.', 1)[0]}.jpg\"\n",
    "          cropped_img.save(os.path.join(output_folder, new_filename))\n",
    "          writer.writerow([new_filename, label])\n",
    "\n",
    "      except Exception as e:\n",
    "        someFileErr += 1\n",
    "        continue\n",
    "  print(f\"PID {pName}\\tNoF {noFace}\\tMF {multiFace}\\tNL {noLabel}\\tSFE {someFileErr}\")"
   ]
  },
  {
   "cell_type": "code",
   "execution_count": 3,
   "metadata": {},
   "outputs": [],
   "source": [
    "with open('q3_imFiles.pkl', 'rb') as file:\n",
    "    q3_imFiles = pickle.load(file)\n",
    "\n",
    "with open('q4_imFiles.pkl', 'rb') as file:\n",
    "    q4_imFiles = pickle.load(file)"
   ]
  },
  {
   "cell_type": "code",
   "execution_count": null,
   "metadata": {},
   "outputs": [],
   "source": [
    "def main():\n",
    "  # Paths\n",
    "  output_folder3 = 'train_faces3'\n",
    "  output_folder4 = 'train_faces4'\n",
    "  os.makedirs(output_folder3, exist_ok=True)\n",
    "  os.makedirs(output_folder4, exist_ok=True)\n",
    "  \n",
    "  new_csv_path3_1 = 'train_faces3-1.csv'\n",
    "  new_csv_path3_2 = 'train_faces3-2.csv'\n",
    "  \n",
    "  new_csv_path4_1 = 'train_faces4-1.csv'\n",
    "  new_csv_path4_2 = 'train_faces4-2.csv'\n",
    "\n",
    "  # Load original labels\n",
    "  original_csv_path = 'train.csv'\n",
    "  original_labels = getOGlabels(original_csv_path)\n",
    "  print(len(original_labels))\n",
    "\n",
    "  # Split list in half\n",
    "  middle_index3 = len(q3_imFiles) // 2\n",
    "  half_3_1 = q3_imFiles[:middle_index3]\n",
    "  half_3_2 = q3_imFiles[middle_index3:]\n",
    "  print(len(half_3_1))\n",
    "  print(len(half_3_2))\n",
    "\n",
    "  # Split list in half\n",
    "  middle_index4 = len(q4_imFiles) // 2\n",
    "  half_4_1 = q4_imFiles[:middle_index4]\n",
    "  half_4_2 = q4_imFiles[middle_index4:]\n",
    "  print(len(half_4_1))\n",
    "  print(len(half_4_2))\n",
    "\n",
    "\n",
    "  # Create two processes\n",
    "  p3_1 = multiprocessing.Process(target=process, args=(half_3_1, output_folder3, new_csv_path3_1, original_labels, 'p3_1'))\n",
    "  p3_2 = multiprocessing.Process(target=process, args=(half_3_2, output_folder3, new_csv_path3_2, original_labels, 'p3_2'))\n",
    "\n",
    "  p4_1 = multiprocessing.Process(target=process, args=(half_4_1, output_folder4, new_csv_path4_1, original_labels, 'p4_1'))\n",
    "  p4_2 = multiprocessing.Process(target=process, args=(half_4_2, output_folder4, new_csv_path4_2, original_labels, 'p4_2'))\n",
    "\n",
    "  # Start the processes\n",
    "  p3_1.start()\n",
    "  p3_2.start()\n",
    "\n",
    "  p4_1.start()\n",
    "  p4_2.start()\n",
    "\n",
    "  # Wait for the processes to finish\n",
    "  p3_1.join()\n",
    "  p3_2.join()\n",
    "  \n",
    "  p4_1.join()\n",
    "  p4_2.join()\n",
    "\n",
    "if __name__ == '__main__':\n",
    "  main()"
   ]
  },
  {
   "cell_type": "markdown",
   "metadata": {},
   "source": [
    "### Combine all images + csvs"
   ]
  },
  {
   "cell_type": "code",
   "execution_count": 3,
   "metadata": {},
   "outputs": [
    {
     "name": "stdout",
     "output_type": "stream",
     "text": [
      "/home/bridge/c/nvijayas/ECE50024/train_faces1\n",
      "/home/bridge/c/nvijayas/ECE50024/train_faces2\n",
      "/home/bridge/c/nvijayas/ECE50024/train_faces3\n",
      "/home/bridge/c/nvijayas/ECE50024/train_faces4\n"
     ]
    }
   ],
   "source": [
    "train_faces_dir = '/home/bridge/c/nvijayas/ECE50024/train_faces'\n",
    "os.makedirs(train_faces_dir, exist_ok=True)\n",
    "\n",
    "to_combine = ['/home/bridge/c/nvijayas/ECE50024/train_faces1',\n",
    "              '/home/bridge/c/nvijayas/ECE50024/train_faces2',\n",
    "              '/home/bridge/c/nvijayas/ECE50024/train_faces3',\n",
    "              '/home/bridge/c/nvijayas/ECE50024/train_faces4']\n",
    "\n",
    "# Move all files from each source folder to the destination folder\n",
    "for folder in to_combine:\n",
    "  print(folder)\n",
    "  for filename in os.listdir(folder):\n",
    "    source_file = os.path.join(folder, filename)\n",
    "    destination_file = os.path.join(train_faces_dir, filename)\n",
    "    if not os.path.exists(destination_file):\n",
    "      shutil.move(source_file, destination_file)\n",
    "    else:\n",
    "      print(f\"File {filename} already exists.\")"
   ]
  },
  {
   "cell_type": "code",
   "execution_count": 4,
   "metadata": {},
   "outputs": [
    {
     "data": {
      "text/plain": [
       "52502"
      ]
     },
     "execution_count": 4,
     "metadata": {},
     "output_type": "execute_result"
    }
   ],
   "source": [
    "len(os.listdir('/home/bridge/c/nvijayas/ECE50024/train_faces'))"
   ]
  },
  {
   "cell_type": "code",
   "execution_count": 5,
   "metadata": {},
   "outputs": [],
   "source": [
    "import csv\n",
    "import glob"
   ]
  },
  {
   "cell_type": "code",
   "execution_count": 8,
   "metadata": {},
   "outputs": [
    {
     "name": "stdout",
     "output_type": "stream",
     "text": [
      "['/home/bridge/c/nvijayas/ECE50024/train.csv', '/home/bridge/c/nvijayas/ECE50024/train_faces3-1.csv', '/home/bridge/c/nvijayas/ECE50024/train_faces3-2.csv', '/home/bridge/c/nvijayas/ECE50024/train_faces4-1.csv', '/home/bridge/c/nvijayas/ECE50024/train_faces4-2.csv', '/home/bridge/c/nvijayas/ECE50024/train_faces1-2.csv', '/home/bridge/c/nvijayas/ECE50024/train_faces1-1.csv', '/home/bridge/c/nvijayas/ECE50024/train_faces2-1.csv', '/home/bridge/c/nvijayas/ECE50024/train_faces2-2.csv']\n",
      "['/home/bridge/c/nvijayas/ECE50024/train_faces3-1.csv', '/home/bridge/c/nvijayas/ECE50024/train_faces3-2.csv', '/home/bridge/c/nvijayas/ECE50024/train_faces4-1.csv', '/home/bridge/c/nvijayas/ECE50024/train_faces4-2.csv', '/home/bridge/c/nvijayas/ECE50024/train_faces1-2.csv', '/home/bridge/c/nvijayas/ECE50024/train_faces1-1.csv', '/home/bridge/c/nvijayas/ECE50024/train_faces2-1.csv', '/home/bridge/c/nvijayas/ECE50024/train_faces2-2.csv']\n",
      "8\n"
     ]
    }
   ],
   "source": [
    "# Path to the directory containing your CSV files\n",
    "csv_dir_path = '/home/bridge/c/nvijayas/ECE50024'\n",
    "# The pattern matches all CSV files in the directory\n",
    "csv_files = glob.glob(f'{csv_dir_path}/*.csv')\n",
    "print(csv_files)\n",
    "csv_files = csv_files[1:]\n",
    "print(csv_files)\n",
    "print(len(csv_files))\n",
    "\n",
    "# The path for the new combined CSV file\n",
    "combined_csv_path = '/home/bridge/c/nvijayas/ECE50024/train_faces.csv'"
   ]
  },
  {
   "cell_type": "code",
   "execution_count": 9,
   "metadata": {},
   "outputs": [
    {
     "name": "stdout",
     "output_type": "stream",
     "text": [
      "CSV files have been combined.\n",
      "Total rows (excluding the header): 52502\n"
     ]
    }
   ],
   "source": [
    "# Initialize a variable to track if the header has been written to the new file\n",
    "header_written = False\n",
    "\n",
    "# Initialize a counter for the rows\n",
    "row_count = 0\n",
    "\n",
    "with open(combined_csv_path, 'w', newline='') as combined_file:\n",
    "    writer = csv.writer(combined_file)\n",
    "    for file in csv_files:\n",
    "        with open(file, 'r', newline='') as read_file:\n",
    "            reader = csv.reader(read_file)\n",
    "            header = next(reader)\n",
    "            if not header_written:\n",
    "                writer.writerow(header)  # Write the header in the new file\n",
    "                header_written = True\n",
    "            for row in reader:\n",
    "                writer.writerow(row)  # Write the data rows\n",
    "                row_count += 1  # Increment the row count\n",
    "\n",
    "print(\"CSV files have been combined.\")\n",
    "# Print the total number of data rows written to the new file\n",
    "print(f\"Total rows (excluding the header): {row_count}\")\n"
   ]
  },
  {
   "cell_type": "code",
   "execution_count": 10,
   "metadata": {},
   "outputs": [],
   "source": [
    "# Path to your CSV file\n",
    "csv_file_path = '/home/bridge/c/nvijayas/ECE50024/train_faces.csv'\n",
    "data_dir = '/home/bridge/c/nvijayas/ECE50024/data4yolo'\n",
    "root_dir = '/home/bridge/c/nvijayas/ECE50024/train_faces'\n",
    "os.makedirs(data_dir, exist_ok=True)\n",
    "\n",
    "# Open and read the CSV file\n",
    "with open(csv_file_path, mode='r', encoding='utf-8') as csv_file:\n",
    "    csv_reader = csv.DictReader(csv_file)\n",
    "    \n",
    "    # Loop through each row in the CSV\n",
    "    for row in csv_reader:\n",
    "        filename = row['filename']\n",
    "        label = row['label']\n",
    "        mod_label = label.replace(\" \", \"_\")\n",
    "        dirLabel = os.path.join(data_dir, mod_label)\n",
    "        \n",
    "        # Create a directory for the label if it doesn't exist\n",
    "        if not os.path.exists(dirLabel):\n",
    "            os.makedirs(dirLabel)\n",
    "        \n",
    "        # Define the source and destination paths\n",
    "        source_path = os.path.join(root_dir, filename)\n",
    "        destination_path = os.path.join(dirLabel, filename)\n",
    "        \n",
    "        # Copy the file to the destination directory\n",
    "        shutil.move(source_path, destination_path)\n"
   ]
  },
  {
   "cell_type": "code",
   "execution_count": 18,
   "metadata": {},
   "outputs": [
    {
     "name": "stdout",
     "output_type": "stream",
     "text": [
      "There are 100 subfolders in /home/bridge/c/nvijayas/ECE50024/data4yolo/val\n"
     ]
    }
   ],
   "source": [
    "def count_subfolders(directory):\n",
    "    \"\"\"Count the number of subfolders in the given directory.\"\"\"\n",
    "    subfolders = [f for f in os.listdir(directory) if os.path.isdir(os.path.join(directory, f))]\n",
    "    return len(subfolders)\n",
    "\n",
    "# Specify the directory to check\n",
    "directory_path = '/home/bridge/c/nvijayas/ECE50024/data4yolo/val'\n",
    "\n",
    "# Call the function and print the result\n",
    "number_of_subfolders = count_subfolders(directory_path)\n",
    "print(f'There are {number_of_subfolders} subfolders in {directory_path}')\n"
   ]
  },
  {
   "cell_type": "code",
   "execution_count": 19,
   "metadata": {},
   "outputs": [],
   "source": [
    "from math import ceil"
   ]
  },
  {
   "cell_type": "code",
   "execution_count": 15,
   "metadata": {},
   "outputs": [],
   "source": [
    "def create_validation_set(data_root, valid_ratio=0.2):\n",
    "    train_dir = os.path.join(data_root, 'train')\n",
    "    valid_dir = os.path.join(data_root, 'val')\n",
    "    \n",
    "    # Check if the validation directory exists, create if not\n",
    "    if not os.path.exists(valid_dir):\n",
    "        os.makedirs(valid_dir)\n",
    "    \n",
    "    # Iterate over each class directory in the train directory\n",
    "    for class_name in os.listdir(train_dir):\n",
    "        class_dir = os.path.join(train_dir, class_name)\n",
    "        \n",
    "        # Check if the class directory in the validation set exists, create if not\n",
    "        valid_class_dir = os.path.join(valid_dir, class_name)\n",
    "        if not os.path.exists(valid_class_dir):\n",
    "            os.makedirs(valid_class_dir)\n",
    "        \n",
    "        # List all files in the current class directory\n",
    "        files = [f for f in os.listdir(class_dir) if os.path.isfile(os.path.join(class_dir, f))]\n",
    "        random.shuffle(files)\n",
    "        \n",
    "        # Calculate the number of validation samples\n",
    "        num_valid_samples = ceil(len(files) * valid_ratio)\n",
    "        \n",
    "        # Move the files\n",
    "        for file in files[:num_valid_samples]:\n",
    "            shutil.move(os.path.join(class_dir, file), os.path.join(valid_class_dir, file))\n",
    "\n",
    "# Your data root directory\n",
    "data_root = '/home/bridge/c/nvijayas/ECE50024/data4yolo'\n",
    "create_validation_set(data_root)\n"
   ]
  },
  {
   "cell_type": "markdown",
   "metadata": {},
   "source": [
    "### Train"
   ]
  },
  {
   "cell_type": "code",
   "execution_count": null,
   "metadata": {},
   "outputs": [],
   "source": [
    "# Used pre-trained YOLO model\n",
    "# Referenced code from Ultraylyics docs \n",
    "# https://docs.ultralytics.com\n",
    "\n",
    "# Load a model\n",
    "model = YOLO('/home/bridge/c/nvijayas/ECE50024/runs/classify/train4/weights/last.pt')\n",
    "\n",
    "# Train the model\n",
    "results = model.train(data='/home/bridge/c/nvijayas/ECE50024/data4yolo', \n",
    "                      epochs=50, \n",
    "                      imgsz=64, \n",
    "                      device= [4, 7], \n",
    "                      lr0=0.01, \n",
    "                      lrf=0.008)"
   ]
  },
  {
   "cell_type": "code",
   "execution_count": null,
   "metadata": {},
   "outputs": [],
   "source": [
    "# Validate the model\n",
    "metrics = model.val()\n",
    "metrics.top1   # top1 accuracy\n",
    "metrics.top5   # top5 accuracy"
   ]
  },
  {
   "cell_type": "markdown",
   "metadata": {},
   "source": [
    "### Create Test Faces"
   ]
  },
  {
   "cell_type": "code",
   "execution_count": 31,
   "metadata": {},
   "outputs": [],
   "source": [
    "def process_test(imFiles, output_folder, pName):\n",
    "  detector = dlib.get_frontal_face_detector()\n",
    "  noFace = 0\n",
    "  multiFace = 0\n",
    "  noLabel = 0\n",
    "  someFileErr = 0\n",
    "  files_not_processed = []\n",
    "\n",
    "  for ctr, fileInfo in enumerate(imFiles):\n",
    "\n",
    "    if (ctr + 1) % 1000 == 0:\n",
    "      print(f\"{pName}: {ctr + 1}\")\n",
    "\n",
    "    filePath, fileName = fileInfo[0], fileInfo[1]\n",
    "  \n",
    "    try:\n",
    "      pil_image = Image.open(filePath).convert('RGB')  # filePath is the path to your image file\n",
    "      img = np.array(pil_image)\n",
    "      detected_faces = detector(img, 1)\n",
    "\n",
    "      if len(detected_faces) == 0:\n",
    "        noFace += 1\n",
    "        files_not_processed.append(fileInfo)\n",
    "        continue\n",
    "      elif len(detected_faces) > 1:\n",
    "        multiFace += 1\n",
    "        files_not_processed.append(fileInfo)\n",
    "        continue\n",
    "      else:\n",
    "        face_rect = detected_faces[0]\n",
    "        \n",
    "        # Adjusted coordinates with a 2-pixel boundary, and clamped to the image bounds\n",
    "        left = max(face_rect.left() - 2, 0)\n",
    "        top = max(face_rect.top() - 2, 0)\n",
    "        right = min(face_rect.right() + 2, img.shape[1])\n",
    "        bottom = min(face_rect.bottom() + 2, img.shape[0])\n",
    "\n",
    "        cropped_img = Image.fromarray(img, 'RGB').crop((left, top, right, bottom))\n",
    "        cropped_img = cropped_img.resize((64, 64))\n",
    "\n",
    "        new_filename = f\"{fileName.rsplit('.', 1)[0]}.jpg\"\n",
    "        cropped_img.save(os.path.join(output_folder, new_filename))\n",
    "\n",
    "    except Exception as e:\n",
    "      someFileErr += 1\n",
    "      files_not_processed.append(fileInfo)\n",
    "      continue\n",
    "  print(f\"PID {pName}\\tNoF {noFace}\\tMF {multiFace}\\tNL {noLabel}\\tSFE {someFileErr}\")\n",
    "  return files_not_processed"
   ]
  },
  {
   "cell_type": "code",
   "execution_count": 33,
   "metadata": {},
   "outputs": [
    {
     "name": "stdout",
     "output_type": "stream",
     "text": [
      "4977\n"
     ]
    }
   ],
   "source": [
    "test_dir = '/home/bridge/c/nvijayas/ECE50024/test'\n",
    "test_imgs = [(os.path.join(test_dir, f), f) for f in os.listdir(test_dir) if os.path.isfile(os.path.join(test_dir, f))]\n",
    "print(len(test_imgs))"
   ]
  },
  {
   "cell_type": "code",
   "execution_count": 35,
   "metadata": {},
   "outputs": [
    {
     "name": "stdout",
     "output_type": "stream",
     "text": [
      "pTest: 1000\n"
     ]
    },
    {
     "name": "stderr",
     "output_type": "stream",
     "text": [
      "/home/bridge/c/nvijayas/miniconda3/envs/env/lib/python3.10/site-packages/PIL/Image.py:981: UserWarning: Palette images with Transparency expressed in bytes should be converted to RGBA images\n",
      "  warnings.warn(\n"
     ]
    },
    {
     "name": "stdout",
     "output_type": "stream",
     "text": [
      "pTest: 2000\n",
      "pTest: 3000\n",
      "pTest: 4000\n",
      "PID pTest\tNoF 468\tMF 722\tNL 0\tSFE 0\n"
     ]
    }
   ],
   "source": [
    "test_faces_dir = '/home/bridge/c/nvijayas/ECE50024/test_faces'\n",
    "os.makedirs(test_faces_dir, exist_ok=True)\n",
    "\n",
    "files_not_processed = process_test(test_imgs, test_faces_dir, 'pTest')"
   ]
  },
  {
   "cell_type": "code",
   "execution_count": 38,
   "metadata": {},
   "outputs": [
    {
     "name": "stdout",
     "output_type": "stream",
     "text": [
      "3787\n"
     ]
    }
   ],
   "source": [
    "x = os.listdir(test_faces_dir)\n",
    "print(len(x))"
   ]
  },
  {
   "cell_type": "code",
   "execution_count": null,
   "metadata": {},
   "outputs": [],
   "source": [
    "exist = 0\n",
    "no_exist = []\n",
    "test_faces_dir = '/home/bridge/c/nvijayas/ECE50024/test_faces'\n",
    "\n",
    "model_infer = YOLO('/home/bridge/c/nvijayas/ECE50024/runs/classify/train8/weights/last.pt')\n",
    "\n",
    "to_csv = []\n",
    "remaining_images = []\n",
    "\n",
    "for i in range(4977):\n",
    "\n",
    "    if (i) % 500 == 0:\n",
    "      print(f\"ITERATION ===============> {i}\")\n",
    "    \n",
    "    img_name = f\"{i}.jpg\"\n",
    "    img_path = os.path.join(test_faces_dir, img_name)\n",
    "\n",
    "    if os.path.exists(img_path):\n",
    "        result = model_infer(img_path, device=[7])\n",
    "        r = result[0]\n",
    "        x = r.probs\n",
    "        x_numpy = x.data.cpu().numpy()\n",
    "        max_index = np.argmax(x_numpy)\n",
    "        names = r.names\n",
    "        pred = names[max_index].replace('_', ' ')\n",
    "        to_csv.append((i, pred))\n",
    "    \n",
    "    else:\n",
    "        remaining_images.append(i)\n",
    "        "
   ]
  },
  {
   "cell_type": "code",
   "execution_count": 4,
   "metadata": {},
   "outputs": [
    {
     "name": "stdout",
     "output_type": "stream",
     "text": [
      "1190\n"
     ]
    }
   ],
   "source": [
    "print(len(remaining_images))"
   ]
  },
  {
   "cell_type": "code",
   "execution_count": 5,
   "metadata": {},
   "outputs": [],
   "source": [
    "test_dir = '/home/bridge/c/nvijayas/ECE50024/test'\n",
    "\n",
    "to_csv2 = []\n",
    "still_err = []\n",
    "\n",
    "# This code was referenced\n",
    "# https://pyimagesearch.com/2021/04/19/face-detection-with-dlib-hog-and-cnn/\n",
    "detector = dlib.get_frontal_face_detector()\n",
    "noFace = []\n",
    "multiFace = []\n",
    "singleFace = []\n",
    "\n",
    "for remaining_image in remaining_images:\n",
    "    img_path = os.path.join(test_dir, f\"{remaining_image}.jpg\")\n",
    "    \n",
    "    # Try to open the image normally\n",
    "    try:\n",
    "        pil_image = Image.open(img_path).convert('RGB')  # filePath is the path to your image file\n",
    "        img = np.array(pil_image)\n",
    "        detected_faces = detector(img, 1)\n",
    "\n",
    "        if len(detected_faces) == 0:\n",
    "            noFace.append(img_path)\n",
    "            continue\n",
    "        elif len(detected_faces) > 1:\n",
    "            multiFace.append(img_path)\n",
    "            continue\n",
    "        else:\n",
    "            singleFace.append(img_path)\n",
    "            \n",
    "            result = model_infer(img_path, device=[7], imgsz=64)\n",
    "            r = result[0]\n",
    "            x = r.probs\n",
    "            x_numpy = x.data.cpu().numpy()\n",
    "            max_index = np.argmax(x_numpy)\n",
    "            names = r.names\n",
    "            pred = names[max_index].replace('_', ' ')\n",
    "            to_csv2.append((i, pred))\n",
    "    except:\n",
    "        still_err.append(remaining_image)"
   ]
  },
  {
   "cell_type": "code",
   "execution_count": 6,
   "metadata": {},
   "outputs": [
    {
     "name": "stdout",
     "output_type": "stream",
     "text": [
      "468 722 0\n"
     ]
    }
   ],
   "source": [
    "print(len(noFace), len(multiFace), len(singleFace))"
   ]
  },
  {
   "cell_type": "code",
   "execution_count": 7,
   "metadata": {},
   "outputs": [],
   "source": [
    "with open('noFace.pkl', 'wb') as f:\n",
    "    pickle.dump(noFace, f)\n",
    "\n",
    "with open('multiFace.pkl', 'wb') as f:\n",
    "    pickle.dump(multiFace, f)\n",
    "\n",
    "with open('singleFace.pkl', 'wb') as f:\n",
    "    pickle.dump(singleFace, f)"
   ]
  },
  {
   "cell_type": "code",
   "execution_count": 8,
   "metadata": {},
   "outputs": [],
   "source": [
    "with open('noFace.pkl', 'rb') as f:\n",
    "    noFace = pickle.load(f)\n",
    "\n",
    "with open('multiFace.pkl', 'rb') as f:\n",
    "    multiFace = pickle.load(f)\n",
    "\n",
    "with open('singleFace.pkl', 'rb') as f:\n",
    "    singleFace = pickle.load(f)"
   ]
  },
  {
   "cell_type": "markdown",
   "metadata": {},
   "source": [
    "no faces found by dlib try cv2 now"
   ]
  },
  {
   "cell_type": "code",
   "execution_count": 13,
   "metadata": {},
   "outputs": [
    {
     "name": "stderr",
     "output_type": "stream",
     "text": [
      "libpng warning: iCCP: known incorrect sRGB profile\n",
      "libpng warning: iCCP: known incorrect sRGB profile\n"
     ]
    }
   ],
   "source": [
    "face_cascade = cv2.CascadeClassifier('/home/bridge/c/nvijayas/ECE50024/haarcascade_frontalface_default.xml')\n",
    "\n",
    "noFace_cv2 = []\n",
    "multiFace_cv2 = []\n",
    "singleFace_cv2 = []\n",
    "still_err_cv2 = []\n",
    "\n",
    "for img_path in multiFace:\n",
    "    \n",
    "    # Try to open the image normally\n",
    "    try:\n",
    "        # Read the input image with OpenCV\n",
    "        img = cv2.imread(img_path)\n",
    "        # Convert the image from BGR to RGB\n",
    "        img_rgb = cv2.cvtColor(img, cv2.COLOR_BGR2RGB)\n",
    "        # Convert into grayscale for face detection\n",
    "        gray = cv2.cvtColor(img, cv2.COLOR_BGR2GRAY)\n",
    "        # Detect faces\n",
    "        detected_faces = face_cascade.detectMultiScale(gray, 1.1, 4)\n",
    "\n",
    "        if len(detected_faces) == 0:\n",
    "            noFace_cv2.append(img_path)\n",
    "            continue\n",
    "        elif len(detected_faces) > 1:\n",
    "            multiFace_cv2.append(img_path)\n",
    "            continue\n",
    "        else:\n",
    "            singleFace_cv2.append(img_path)\n",
    "            \n",
    "    except:\n",
    "        still_err_cv2.append(img_path)"
   ]
  },
  {
   "cell_type": "code",
   "execution_count": 15,
   "metadata": {},
   "outputs": [
    {
     "name": "stdout",
     "output_type": "stream",
     "text": [
      "6 626 89\n"
     ]
    }
   ],
   "source": [
    "print(len(noFace_cv2), len(multiFace_cv2), len(singleFace_cv2))"
   ]
  },
  {
   "cell_type": "code",
   "execution_count": 17,
   "metadata": {},
   "outputs": [],
   "source": [
    "with open('dlib_multi_cv2_multiFace.pkl', 'wb') as f:\n",
    "    pickle.dump(multiFace_cv2, f)"
   ]
  },
  {
   "cell_type": "markdown",
   "metadata": {},
   "source": [
    "modified inferences"
   ]
  },
  {
   "cell_type": "code",
   "execution_count": 18,
   "metadata": {},
   "outputs": [],
   "source": [
    "with open('dlib_noFace_cv2_1Face.pkl', 'rb') as f:\n",
    "    dlib_noFace_cv2_1Face = pickle.load(f)\n",
    "\n",
    "with open('dlib_multi_cv2_1Face.pkl', 'rb') as f:\n",
    "    dlib_multi_cv2_1Face = pickle.load(f)\n",
    "\n",
    "with open('dlib_multi_cv2_multiFace.pkl', 'rb') as f:\n",
    "    dlib_multi_cv2_multiFace = pickle.load(f)"
   ]
  },
  {
   "cell_type": "markdown",
   "metadata": {},
   "source": [
    "Trial 4 code Start"
   ]
  },
  {
   "cell_type": "code",
   "execution_count": 2,
   "metadata": {},
   "outputs": [
    {
     "name": "stdout",
     "output_type": "stream",
     "text": [
      "134\n",
      "468\n"
     ]
    }
   ],
   "source": [
    "with open('dlib_noFace_cv2_1Face.pkl', 'rb') as f:\n",
    "    dlib_noFace_cv2_1Face = pickle.load(f)\n",
    "\n",
    "with open('noFace.pkl', 'rb') as f:\n",
    "    noFace = pickle.load(f)\n",
    "\n",
    "print(len(dlib_noFace_cv2_1Face))\n",
    "print(len(noFace))"
   ]
  },
  {
   "cell_type": "code",
   "execution_count": 3,
   "metadata": {},
   "outputs": [
    {
     "name": "stdout",
     "output_type": "stream",
     "text": [
      "['/home/bridge/c/nvijayas/ECE50024/test/18.jpg', '/home/bridge/c/nvijayas/ECE50024/test/44.jpg', '/home/bridge/c/nvijayas/ECE50024/test/47.jpg', '/home/bridge/c/nvijayas/ECE50024/test/65.jpg', '/home/bridge/c/nvijayas/ECE50024/test/67.jpg', '/home/bridge/c/nvijayas/ECE50024/test/69.jpg', '/home/bridge/c/nvijayas/ECE50024/test/76.jpg', '/home/bridge/c/nvijayas/ECE50024/test/114.jpg', '/home/bridge/c/nvijayas/ECE50024/test/132.jpg', '/home/bridge/c/nvijayas/ECE50024/test/133.jpg', '/home/bridge/c/nvijayas/ECE50024/test/148.jpg', '/home/bridge/c/nvijayas/ECE50024/test/151.jpg', '/home/bridge/c/nvijayas/ECE50024/test/155.jpg', '/home/bridge/c/nvijayas/ECE50024/test/166.jpg', '/home/bridge/c/nvijayas/ECE50024/test/185.jpg', '/home/bridge/c/nvijayas/ECE50024/test/198.jpg', '/home/bridge/c/nvijayas/ECE50024/test/205.jpg', '/home/bridge/c/nvijayas/ECE50024/test/207.jpg', '/home/bridge/c/nvijayas/ECE50024/test/210.jpg', '/home/bridge/c/nvijayas/ECE50024/test/216.jpg', '/home/bridge/c/nvijayas/ECE50024/test/217.jpg', '/home/bridge/c/nvijayas/ECE50024/test/228.jpg', '/home/bridge/c/nvijayas/ECE50024/test/235.jpg', '/home/bridge/c/nvijayas/ECE50024/test/238.jpg', '/home/bridge/c/nvijayas/ECE50024/test/242.jpg', '/home/bridge/c/nvijayas/ECE50024/test/250.jpg', '/home/bridge/c/nvijayas/ECE50024/test/252.jpg', '/home/bridge/c/nvijayas/ECE50024/test/273.jpg', '/home/bridge/c/nvijayas/ECE50024/test/282.jpg', '/home/bridge/c/nvijayas/ECE50024/test/284.jpg', '/home/bridge/c/nvijayas/ECE50024/test/305.jpg', '/home/bridge/c/nvijayas/ECE50024/test/317.jpg', '/home/bridge/c/nvijayas/ECE50024/test/324.jpg', '/home/bridge/c/nvijayas/ECE50024/test/329.jpg', '/home/bridge/c/nvijayas/ECE50024/test/343.jpg', '/home/bridge/c/nvijayas/ECE50024/test/361.jpg', '/home/bridge/c/nvijayas/ECE50024/test/404.jpg', '/home/bridge/c/nvijayas/ECE50024/test/436.jpg', '/home/bridge/c/nvijayas/ECE50024/test/462.jpg', '/home/bridge/c/nvijayas/ECE50024/test/498.jpg', '/home/bridge/c/nvijayas/ECE50024/test/512.jpg', '/home/bridge/c/nvijayas/ECE50024/test/518.jpg', '/home/bridge/c/nvijayas/ECE50024/test/544.jpg', '/home/bridge/c/nvijayas/ECE50024/test/600.jpg', '/home/bridge/c/nvijayas/ECE50024/test/608.jpg', '/home/bridge/c/nvijayas/ECE50024/test/609.jpg', '/home/bridge/c/nvijayas/ECE50024/test/620.jpg', '/home/bridge/c/nvijayas/ECE50024/test/626.jpg', '/home/bridge/c/nvijayas/ECE50024/test/629.jpg', '/home/bridge/c/nvijayas/ECE50024/test/672.jpg', '/home/bridge/c/nvijayas/ECE50024/test/696.jpg', '/home/bridge/c/nvijayas/ECE50024/test/698.jpg', '/home/bridge/c/nvijayas/ECE50024/test/701.jpg', '/home/bridge/c/nvijayas/ECE50024/test/726.jpg', '/home/bridge/c/nvijayas/ECE50024/test/731.jpg', '/home/bridge/c/nvijayas/ECE50024/test/733.jpg', '/home/bridge/c/nvijayas/ECE50024/test/745.jpg', '/home/bridge/c/nvijayas/ECE50024/test/767.jpg', '/home/bridge/c/nvijayas/ECE50024/test/785.jpg', '/home/bridge/c/nvijayas/ECE50024/test/823.jpg', '/home/bridge/c/nvijayas/ECE50024/test/825.jpg', '/home/bridge/c/nvijayas/ECE50024/test/832.jpg', '/home/bridge/c/nvijayas/ECE50024/test/876.jpg', '/home/bridge/c/nvijayas/ECE50024/test/888.jpg', '/home/bridge/c/nvijayas/ECE50024/test/893.jpg', '/home/bridge/c/nvijayas/ECE50024/test/913.jpg', '/home/bridge/c/nvijayas/ECE50024/test/921.jpg', '/home/bridge/c/nvijayas/ECE50024/test/927.jpg', '/home/bridge/c/nvijayas/ECE50024/test/991.jpg', '/home/bridge/c/nvijayas/ECE50024/test/995.jpg', '/home/bridge/c/nvijayas/ECE50024/test/1036.jpg', '/home/bridge/c/nvijayas/ECE50024/test/1037.jpg', '/home/bridge/c/nvijayas/ECE50024/test/1058.jpg', '/home/bridge/c/nvijayas/ECE50024/test/1069.jpg', '/home/bridge/c/nvijayas/ECE50024/test/1082.jpg', '/home/bridge/c/nvijayas/ECE50024/test/1090.jpg', '/home/bridge/c/nvijayas/ECE50024/test/1154.jpg', '/home/bridge/c/nvijayas/ECE50024/test/1175.jpg', '/home/bridge/c/nvijayas/ECE50024/test/1199.jpg', '/home/bridge/c/nvijayas/ECE50024/test/1200.jpg', '/home/bridge/c/nvijayas/ECE50024/test/1210.jpg', '/home/bridge/c/nvijayas/ECE50024/test/1230.jpg', '/home/bridge/c/nvijayas/ECE50024/test/1238.jpg', '/home/bridge/c/nvijayas/ECE50024/test/1241.jpg', '/home/bridge/c/nvijayas/ECE50024/test/1280.jpg', '/home/bridge/c/nvijayas/ECE50024/test/1308.jpg', '/home/bridge/c/nvijayas/ECE50024/test/1321.jpg', '/home/bridge/c/nvijayas/ECE50024/test/1330.jpg', '/home/bridge/c/nvijayas/ECE50024/test/1351.jpg', '/home/bridge/c/nvijayas/ECE50024/test/1362.jpg', '/home/bridge/c/nvijayas/ECE50024/test/1392.jpg', '/home/bridge/c/nvijayas/ECE50024/test/1408.jpg', '/home/bridge/c/nvijayas/ECE50024/test/1418.jpg', '/home/bridge/c/nvijayas/ECE50024/test/1446.jpg', '/home/bridge/c/nvijayas/ECE50024/test/1458.jpg', '/home/bridge/c/nvijayas/ECE50024/test/1465.jpg', '/home/bridge/c/nvijayas/ECE50024/test/1477.jpg', '/home/bridge/c/nvijayas/ECE50024/test/1480.jpg', '/home/bridge/c/nvijayas/ECE50024/test/1492.jpg', '/home/bridge/c/nvijayas/ECE50024/test/1499.jpg', '/home/bridge/c/nvijayas/ECE50024/test/1514.jpg', '/home/bridge/c/nvijayas/ECE50024/test/1518.jpg', '/home/bridge/c/nvijayas/ECE50024/test/1531.jpg', '/home/bridge/c/nvijayas/ECE50024/test/1569.jpg', '/home/bridge/c/nvijayas/ECE50024/test/1584.jpg', '/home/bridge/c/nvijayas/ECE50024/test/1587.jpg', '/home/bridge/c/nvijayas/ECE50024/test/1599.jpg', '/home/bridge/c/nvijayas/ECE50024/test/1617.jpg', '/home/bridge/c/nvijayas/ECE50024/test/1629.jpg', '/home/bridge/c/nvijayas/ECE50024/test/1639.jpg', '/home/bridge/c/nvijayas/ECE50024/test/1652.jpg', '/home/bridge/c/nvijayas/ECE50024/test/1658.jpg', '/home/bridge/c/nvijayas/ECE50024/test/1663.jpg', '/home/bridge/c/nvijayas/ECE50024/test/1665.jpg', '/home/bridge/c/nvijayas/ECE50024/test/1735.jpg', '/home/bridge/c/nvijayas/ECE50024/test/1741.jpg', '/home/bridge/c/nvijayas/ECE50024/test/1749.jpg', '/home/bridge/c/nvijayas/ECE50024/test/1771.jpg', '/home/bridge/c/nvijayas/ECE50024/test/1794.jpg', '/home/bridge/c/nvijayas/ECE50024/test/1796.jpg', '/home/bridge/c/nvijayas/ECE50024/test/1817.jpg', '/home/bridge/c/nvijayas/ECE50024/test/1818.jpg', '/home/bridge/c/nvijayas/ECE50024/test/1822.jpg', '/home/bridge/c/nvijayas/ECE50024/test/1826.jpg', '/home/bridge/c/nvijayas/ECE50024/test/1828.jpg', '/home/bridge/c/nvijayas/ECE50024/test/1848.jpg', '/home/bridge/c/nvijayas/ECE50024/test/1855.jpg', '/home/bridge/c/nvijayas/ECE50024/test/1868.jpg', '/home/bridge/c/nvijayas/ECE50024/test/1870.jpg', '/home/bridge/c/nvijayas/ECE50024/test/1907.jpg', '/home/bridge/c/nvijayas/ECE50024/test/1961.jpg', '/home/bridge/c/nvijayas/ECE50024/test/1984.jpg', '/home/bridge/c/nvijayas/ECE50024/test/1997.jpg', '/home/bridge/c/nvijayas/ECE50024/test/1998.jpg', '/home/bridge/c/nvijayas/ECE50024/test/2008.jpg', '/home/bridge/c/nvijayas/ECE50024/test/2013.jpg', '/home/bridge/c/nvijayas/ECE50024/test/2063.jpg', '/home/bridge/c/nvijayas/ECE50024/test/2079.jpg', '/home/bridge/c/nvijayas/ECE50024/test/2085.jpg', '/home/bridge/c/nvijayas/ECE50024/test/2091.jpg', '/home/bridge/c/nvijayas/ECE50024/test/2119.jpg', '/home/bridge/c/nvijayas/ECE50024/test/2126.jpg', '/home/bridge/c/nvijayas/ECE50024/test/2166.jpg', '/home/bridge/c/nvijayas/ECE50024/test/2235.jpg', '/home/bridge/c/nvijayas/ECE50024/test/2246.jpg', '/home/bridge/c/nvijayas/ECE50024/test/2257.jpg', '/home/bridge/c/nvijayas/ECE50024/test/2259.jpg', '/home/bridge/c/nvijayas/ECE50024/test/2312.jpg', '/home/bridge/c/nvijayas/ECE50024/test/2315.jpg', '/home/bridge/c/nvijayas/ECE50024/test/2324.jpg', '/home/bridge/c/nvijayas/ECE50024/test/2340.jpg', '/home/bridge/c/nvijayas/ECE50024/test/2388.jpg', '/home/bridge/c/nvijayas/ECE50024/test/2411.jpg', '/home/bridge/c/nvijayas/ECE50024/test/2431.jpg', '/home/bridge/c/nvijayas/ECE50024/test/2434.jpg', '/home/bridge/c/nvijayas/ECE50024/test/2439.jpg', '/home/bridge/c/nvijayas/ECE50024/test/2466.jpg', '/home/bridge/c/nvijayas/ECE50024/test/2471.jpg', '/home/bridge/c/nvijayas/ECE50024/test/2500.jpg', '/home/bridge/c/nvijayas/ECE50024/test/2517.jpg', '/home/bridge/c/nvijayas/ECE50024/test/2523.jpg', '/home/bridge/c/nvijayas/ECE50024/test/2528.jpg', '/home/bridge/c/nvijayas/ECE50024/test/2554.jpg', '/home/bridge/c/nvijayas/ECE50024/test/2556.jpg', '/home/bridge/c/nvijayas/ECE50024/test/2571.jpg', '/home/bridge/c/nvijayas/ECE50024/test/2594.jpg', '/home/bridge/c/nvijayas/ECE50024/test/2607.jpg', '/home/bridge/c/nvijayas/ECE50024/test/2627.jpg', '/home/bridge/c/nvijayas/ECE50024/test/2637.jpg', '/home/bridge/c/nvijayas/ECE50024/test/2651.jpg', '/home/bridge/c/nvijayas/ECE50024/test/2672.jpg', '/home/bridge/c/nvijayas/ECE50024/test/2679.jpg', '/home/bridge/c/nvijayas/ECE50024/test/2680.jpg', '/home/bridge/c/nvijayas/ECE50024/test/2700.jpg', '/home/bridge/c/nvijayas/ECE50024/test/2724.jpg', '/home/bridge/c/nvijayas/ECE50024/test/2725.jpg', '/home/bridge/c/nvijayas/ECE50024/test/2727.jpg', '/home/bridge/c/nvijayas/ECE50024/test/2749.jpg', '/home/bridge/c/nvijayas/ECE50024/test/2777.jpg', '/home/bridge/c/nvijayas/ECE50024/test/2780.jpg', '/home/bridge/c/nvijayas/ECE50024/test/2795.jpg', '/home/bridge/c/nvijayas/ECE50024/test/2807.jpg', '/home/bridge/c/nvijayas/ECE50024/test/2828.jpg', '/home/bridge/c/nvijayas/ECE50024/test/2829.jpg', '/home/bridge/c/nvijayas/ECE50024/test/2864.jpg', '/home/bridge/c/nvijayas/ECE50024/test/2893.jpg', '/home/bridge/c/nvijayas/ECE50024/test/2903.jpg', '/home/bridge/c/nvijayas/ECE50024/test/2909.jpg', '/home/bridge/c/nvijayas/ECE50024/test/2929.jpg', '/home/bridge/c/nvijayas/ECE50024/test/2938.jpg', '/home/bridge/c/nvijayas/ECE50024/test/2947.jpg', '/home/bridge/c/nvijayas/ECE50024/test/2968.jpg', '/home/bridge/c/nvijayas/ECE50024/test/2985.jpg', '/home/bridge/c/nvijayas/ECE50024/test/2986.jpg', '/home/bridge/c/nvijayas/ECE50024/test/3018.jpg', '/home/bridge/c/nvijayas/ECE50024/test/3020.jpg', '/home/bridge/c/nvijayas/ECE50024/test/3027.jpg', '/home/bridge/c/nvijayas/ECE50024/test/3035.jpg', '/home/bridge/c/nvijayas/ECE50024/test/3041.jpg', '/home/bridge/c/nvijayas/ECE50024/test/3044.jpg', '/home/bridge/c/nvijayas/ECE50024/test/3049.jpg', '/home/bridge/c/nvijayas/ECE50024/test/3053.jpg', '/home/bridge/c/nvijayas/ECE50024/test/3056.jpg', '/home/bridge/c/nvijayas/ECE50024/test/3058.jpg', '/home/bridge/c/nvijayas/ECE50024/test/3071.jpg', '/home/bridge/c/nvijayas/ECE50024/test/3076.jpg', '/home/bridge/c/nvijayas/ECE50024/test/3080.jpg', '/home/bridge/c/nvijayas/ECE50024/test/3088.jpg', '/home/bridge/c/nvijayas/ECE50024/test/3094.jpg', '/home/bridge/c/nvijayas/ECE50024/test/3097.jpg', '/home/bridge/c/nvijayas/ECE50024/test/3103.jpg', '/home/bridge/c/nvijayas/ECE50024/test/3115.jpg', '/home/bridge/c/nvijayas/ECE50024/test/3148.jpg', '/home/bridge/c/nvijayas/ECE50024/test/3153.jpg', '/home/bridge/c/nvijayas/ECE50024/test/3168.jpg', '/home/bridge/c/nvijayas/ECE50024/test/3176.jpg', '/home/bridge/c/nvijayas/ECE50024/test/3195.jpg', '/home/bridge/c/nvijayas/ECE50024/test/3322.jpg', '/home/bridge/c/nvijayas/ECE50024/test/3357.jpg', '/home/bridge/c/nvijayas/ECE50024/test/3365.jpg', '/home/bridge/c/nvijayas/ECE50024/test/3366.jpg', '/home/bridge/c/nvijayas/ECE50024/test/3368.jpg', '/home/bridge/c/nvijayas/ECE50024/test/3382.jpg', '/home/bridge/c/nvijayas/ECE50024/test/3400.jpg', '/home/bridge/c/nvijayas/ECE50024/test/3404.jpg', '/home/bridge/c/nvijayas/ECE50024/test/3416.jpg', '/home/bridge/c/nvijayas/ECE50024/test/3420.jpg', '/home/bridge/c/nvijayas/ECE50024/test/3422.jpg', '/home/bridge/c/nvijayas/ECE50024/test/3426.jpg', '/home/bridge/c/nvijayas/ECE50024/test/3437.jpg', '/home/bridge/c/nvijayas/ECE50024/test/3458.jpg', '/home/bridge/c/nvijayas/ECE50024/test/3459.jpg', '/home/bridge/c/nvijayas/ECE50024/test/3469.jpg', '/home/bridge/c/nvijayas/ECE50024/test/3481.jpg', '/home/bridge/c/nvijayas/ECE50024/test/3526.jpg', '/home/bridge/c/nvijayas/ECE50024/test/3537.jpg', '/home/bridge/c/nvijayas/ECE50024/test/3558.jpg', '/home/bridge/c/nvijayas/ECE50024/test/3568.jpg', '/home/bridge/c/nvijayas/ECE50024/test/3570.jpg', '/home/bridge/c/nvijayas/ECE50024/test/3582.jpg', '/home/bridge/c/nvijayas/ECE50024/test/3602.jpg', '/home/bridge/c/nvijayas/ECE50024/test/3604.jpg', '/home/bridge/c/nvijayas/ECE50024/test/3652.jpg', '/home/bridge/c/nvijayas/ECE50024/test/3663.jpg', '/home/bridge/c/nvijayas/ECE50024/test/3667.jpg', '/home/bridge/c/nvijayas/ECE50024/test/3731.jpg', '/home/bridge/c/nvijayas/ECE50024/test/3735.jpg', '/home/bridge/c/nvijayas/ECE50024/test/3744.jpg', '/home/bridge/c/nvijayas/ECE50024/test/3752.jpg', '/home/bridge/c/nvijayas/ECE50024/test/3787.jpg', '/home/bridge/c/nvijayas/ECE50024/test/3802.jpg', '/home/bridge/c/nvijayas/ECE50024/test/3819.jpg', '/home/bridge/c/nvijayas/ECE50024/test/3823.jpg', '/home/bridge/c/nvijayas/ECE50024/test/3839.jpg', '/home/bridge/c/nvijayas/ECE50024/test/3842.jpg', '/home/bridge/c/nvijayas/ECE50024/test/3849.jpg', '/home/bridge/c/nvijayas/ECE50024/test/3863.jpg', '/home/bridge/c/nvijayas/ECE50024/test/3907.jpg', '/home/bridge/c/nvijayas/ECE50024/test/3909.jpg', '/home/bridge/c/nvijayas/ECE50024/test/3918.jpg', '/home/bridge/c/nvijayas/ECE50024/test/3921.jpg', '/home/bridge/c/nvijayas/ECE50024/test/3950.jpg', '/home/bridge/c/nvijayas/ECE50024/test/3977.jpg', '/home/bridge/c/nvijayas/ECE50024/test/3982.jpg', '/home/bridge/c/nvijayas/ECE50024/test/4004.jpg', '/home/bridge/c/nvijayas/ECE50024/test/4008.jpg', '/home/bridge/c/nvijayas/ECE50024/test/4013.jpg', '/home/bridge/c/nvijayas/ECE50024/test/4036.jpg', '/home/bridge/c/nvijayas/ECE50024/test/4068.jpg', '/home/bridge/c/nvijayas/ECE50024/test/4087.jpg', '/home/bridge/c/nvijayas/ECE50024/test/4142.jpg', '/home/bridge/c/nvijayas/ECE50024/test/4143.jpg', '/home/bridge/c/nvijayas/ECE50024/test/4151.jpg', '/home/bridge/c/nvijayas/ECE50024/test/4204.jpg', '/home/bridge/c/nvijayas/ECE50024/test/4216.jpg', '/home/bridge/c/nvijayas/ECE50024/test/4221.jpg', '/home/bridge/c/nvijayas/ECE50024/test/4234.jpg', '/home/bridge/c/nvijayas/ECE50024/test/4237.jpg', '/home/bridge/c/nvijayas/ECE50024/test/4250.jpg', '/home/bridge/c/nvijayas/ECE50024/test/4255.jpg', '/home/bridge/c/nvijayas/ECE50024/test/4267.jpg', '/home/bridge/c/nvijayas/ECE50024/test/4284.jpg', '/home/bridge/c/nvijayas/ECE50024/test/4287.jpg', '/home/bridge/c/nvijayas/ECE50024/test/4322.jpg', '/home/bridge/c/nvijayas/ECE50024/test/4326.jpg', '/home/bridge/c/nvijayas/ECE50024/test/4337.jpg', '/home/bridge/c/nvijayas/ECE50024/test/4339.jpg', '/home/bridge/c/nvijayas/ECE50024/test/4342.jpg', '/home/bridge/c/nvijayas/ECE50024/test/4347.jpg', '/home/bridge/c/nvijayas/ECE50024/test/4348.jpg', '/home/bridge/c/nvijayas/ECE50024/test/4390.jpg', '/home/bridge/c/nvijayas/ECE50024/test/4393.jpg', '/home/bridge/c/nvijayas/ECE50024/test/4397.jpg', '/home/bridge/c/nvijayas/ECE50024/test/4398.jpg', '/home/bridge/c/nvijayas/ECE50024/test/4407.jpg', '/home/bridge/c/nvijayas/ECE50024/test/4430.jpg', '/home/bridge/c/nvijayas/ECE50024/test/4437.jpg', '/home/bridge/c/nvijayas/ECE50024/test/4451.jpg', '/home/bridge/c/nvijayas/ECE50024/test/4470.jpg', '/home/bridge/c/nvijayas/ECE50024/test/4490.jpg', '/home/bridge/c/nvijayas/ECE50024/test/4491.jpg', '/home/bridge/c/nvijayas/ECE50024/test/4507.jpg', '/home/bridge/c/nvijayas/ECE50024/test/4533.jpg', '/home/bridge/c/nvijayas/ECE50024/test/4597.jpg', '/home/bridge/c/nvijayas/ECE50024/test/4610.jpg', '/home/bridge/c/nvijayas/ECE50024/test/4629.jpg', '/home/bridge/c/nvijayas/ECE50024/test/4631.jpg', '/home/bridge/c/nvijayas/ECE50024/test/4632.jpg', '/home/bridge/c/nvijayas/ECE50024/test/4634.jpg', '/home/bridge/c/nvijayas/ECE50024/test/4660.jpg', '/home/bridge/c/nvijayas/ECE50024/test/4684.jpg', '/home/bridge/c/nvijayas/ECE50024/test/4701.jpg', '/home/bridge/c/nvijayas/ECE50024/test/4703.jpg', '/home/bridge/c/nvijayas/ECE50024/test/4708.jpg', '/home/bridge/c/nvijayas/ECE50024/test/4709.jpg', '/home/bridge/c/nvijayas/ECE50024/test/4745.jpg', '/home/bridge/c/nvijayas/ECE50024/test/4757.jpg', '/home/bridge/c/nvijayas/ECE50024/test/4766.jpg', '/home/bridge/c/nvijayas/ECE50024/test/4768.jpg', '/home/bridge/c/nvijayas/ECE50024/test/4776.jpg', '/home/bridge/c/nvijayas/ECE50024/test/4797.jpg', '/home/bridge/c/nvijayas/ECE50024/test/4798.jpg', '/home/bridge/c/nvijayas/ECE50024/test/4826.jpg', '/home/bridge/c/nvijayas/ECE50024/test/4847.jpg', '/home/bridge/c/nvijayas/ECE50024/test/4854.jpg', '/home/bridge/c/nvijayas/ECE50024/test/4862.jpg', '/home/bridge/c/nvijayas/ECE50024/test/4868.jpg', '/home/bridge/c/nvijayas/ECE50024/test/4879.jpg', '/home/bridge/c/nvijayas/ECE50024/test/4888.jpg', '/home/bridge/c/nvijayas/ECE50024/test/4901.jpg', '/home/bridge/c/nvijayas/ECE50024/test/4908.jpg', '/home/bridge/c/nvijayas/ECE50024/test/4923.jpg', '/home/bridge/c/nvijayas/ECE50024/test/4963.jpg', '/home/bridge/c/nvijayas/ECE50024/test/4971.jpg']\n",
      "334\n"
     ]
    }
   ],
   "source": [
    "# Find elements in noFace not present in dlib_noFace_cv2_1Face\n",
    "dlib_set = set(dlib_noFace_cv2_1Face)\n",
    "remaining_noFace = [element for element in noFace if element not in dlib_set]\n",
    "print(remaining_noFace)\n",
    "print(len(remaining_noFace))"
   ]
  },
  {
   "cell_type": "code",
   "execution_count": 12,
   "metadata": {},
   "outputs": [
    {
     "name": "stderr",
     "output_type": "stream",
     "text": [
      "/home/bridge/c/nvijayas/miniconda3/envs/env/lib/python3.10/site-packages/tqdm/auto.py:21: TqdmWarning: IProgress not found. Please update jupyter and ipywidgets. See https://ipywidgets.readthedocs.io/en/stable/user_install.html\n",
      "  from .autonotebook import tqdm as notebook_tqdm\n"
     ]
    }
   ],
   "source": [
    "from facenet_pytorch import MTCNN\n",
    "import torch"
   ]
  },
  {
   "cell_type": "code",
   "execution_count": null,
   "metadata": {},
   "outputs": [],
   "source": [
    "# Set device\n",
    "device = torch.device('cuda:4' if torch.cuda.is_available() else 'cpu')\n",
    "\n",
    "# This code was referenced for MTCNN\n",
    "# https://medium.com/@saranshrajput/face-detection-using-mtcnn-f3948e5d1acb\n",
    "# Initialize MTCNN\n",
    "mtcnn = MTCNN(keep_all=True, device=device)\n",
    "\n",
    "err = []\n",
    "multi = []\n",
    "single = []\n",
    "none = []\n",
    "\n",
    "for i, image_path in enumerate(remaining_noFace):\n",
    "    print(i)\n",
    "    try:\n",
    "        img = cv2.imread(image_path)\n",
    "        img_rgb = cv2.cvtColor(img, cv2.COLOR_BGR2RGB)\n",
    "\n",
    "        # Detect faces using MTCNN\n",
    "        boxes, _ = mtcnn.detect(img_rgb)\n",
    "\n",
    "        # If faces are detected, store the image path\n",
    "        if boxes is not None:\n",
    "            if len(single) == 1:\n",
    "                single.append(image_path)\n",
    "            else:\n",
    "                multi.append(image_path)\n",
    "        else:\n",
    "            none.append(image_path)\n",
    "    except:\n",
    "        err.append(image_path)\n",
    "        continue"
   ]
  },
  {
   "cell_type": "code",
   "execution_count": 32,
   "metadata": {},
   "outputs": [
    {
     "name": "stdout",
     "output_type": "stream",
     "text": [
      "22 70 0 242\n"
     ]
    }
   ],
   "source": [
    "print(len(err), len(none), len(single), len(multi))"
   ]
  },
  {
   "cell_type": "markdown",
   "metadata": {},
   "source": [
    "Trial 4 code End"
   ]
  },
  {
   "cell_type": "code",
   "execution_count": 10,
   "metadata": {},
   "outputs": [],
   "source": [
    "# helper function\n",
    "def get_coords_largest_area(detected_faces):\n",
    "    largest_area = 0\n",
    "    largest_face_coords = (0, 0, 0, 0)\n",
    "    multi = len(detected_faces) > 1\n",
    "    \n",
    "    for (x, y, w, h) in detected_faces:\n",
    "        area = w * h\n",
    "        # If this face has the largest area so far, update the variables\n",
    "        if area > largest_area:\n",
    "            largest_area = area\n",
    "            largest_face_coords = (x, y, w, h)\n",
    "    \n",
    "    x, y, w, h = largest_face_coords\n",
    "    return x, y, w, h, multi\n",
    "\n",
    "def get_coords_largest_area2(detected_faces):\n",
    "    largest_area = 0\n",
    "    largest_face_coords = (0, 0, 0, 0)\n",
    "    \n",
    "    multi = len(detected_faces) > 1\n",
    "    \n",
    "    for box in detected_faces:\n",
    "        # Extract coordinates from the bounding box\n",
    "        x1, y1, x2, y2 = box\n",
    "        \n",
    "        # Calculate width and height\n",
    "        w = x2 - x1\n",
    "        h = y2 - y1\n",
    "        \n",
    "        area = w * h\n",
    "        \n",
    "        # If this face has the largest area so far, update the variables\n",
    "        if area > largest_area:\n",
    "            largest_area = area\n",
    "            largest_face_coords = (x1, y1, x2, y2)\n",
    "    \n",
    "    x, y, w, h = largest_face_coords\n",
    "    return int(x), int(y), int(w), int(h), multi\n",
    "\n",
    "def extract_image_number(image_path):\n",
    "    print(image_path)\n",
    "    base_name = os.path.basename(image_path)\n",
    "    file_name_without_extension = os.path.splitext(base_name)[0]\n",
    "    image_number = int(file_name_without_extension)\n",
    "    return image_number\n"
   ]
  },
  {
   "cell_type": "code",
   "execution_count": 28,
   "metadata": {},
   "outputs": [
    {
     "name": "stdout",
     "output_type": "stream",
     "text": [
      "/home/bridge/c/nvijayas/ECE50024/test/9.jpg\n",
      "9\n"
     ]
    }
   ],
   "source": [
    "print(extract_image_number(dlib_multi_cv2_multiFace[0]))"
   ]
  },
  {
   "cell_type": "code",
   "execution_count": 16,
   "metadata": {},
   "outputs": [],
   "source": [
    "#device = torch.device('cuda:7' if torch.cuda.is_available() else 'cpu')\n",
    "mtcnn = MTCNN(keep_all=True, device='cpu')"
   ]
  },
  {
   "cell_type": "code",
   "execution_count": null,
   "metadata": {},
   "outputs": [],
   "source": [
    "model_infer = YOLO('/home/bridge/c/nvijayas/ECE50024/runs/classify/train/weights/best.pt')\n",
    "#extra_images = dlib_noFace_cv2_1Face + dlib_multi_cv2_1Face + dlib_multi_cv2_multiFace\n",
    "#extra_images = multi + none\n",
    "extra_images = noFace + multiFace\n",
    "\n",
    "final_noFace = []   # should be 0\n",
    "final_multiFace = [] # should be 0\n",
    "final_singleFace = []\n",
    "final_still_err = []\n",
    "final_tocsv = []\n",
    "\n",
    "print(len(extra_images))\n",
    "for i, img_path in enumerate(extra_images):\n",
    "    try:\n",
    "        img = cv2.imread(img_path)\n",
    "        img_rgb = cv2.cvtColor(img, cv2.COLOR_BGR2RGB)\n",
    "        #gray = cv2.cvtColor(img, cv2.COLOR_BGR2GRAY)\n",
    "        #detected_faces = face_cascade.detectMultiScale(gray, 1.1, 4)\n",
    "        detected_faces, _ = mtcnn.detect(img_rgb)\n",
    "\n",
    "        if detected_faces is None:\n",
    "            print(i, 'len None')\n",
    "            result = model_infer(img_rgb, imgsz = 64)\n",
    "            r = result[0]\n",
    "            x = r.probs\n",
    "            x_numpy = x.data.cpu().numpy()\n",
    "            max_index = np.argmax(x_numpy)\n",
    "            names = r.names\n",
    "            pred = names[max_index].replace('_', ' ')\n",
    "            final_tocsv.append((extract_image_number(img_path), pred))\n",
    "\n",
    "        elif len(detected_faces) == 0:\n",
    "            print(i, 'len 0')\n",
    "            final_noFace.append(img_path)\n",
    "            continue            \n",
    "        \n",
    "        else:\n",
    "            print(i, 'len Multi or 1')\n",
    "            x, y, w, h, multi_hi = get_coords_largest_area2(detected_faces)\n",
    "            \n",
    "            if multi_hi == True:\n",
    "                final_multiFace.append(img_path)\n",
    "            else:\n",
    "                final_singleFace.append(img_path)\n",
    "            \n",
    "            cropped_img = Image.fromarray(img_rgb[y:y+h, x:x+w], 'RGB').resize((64, 64))\n",
    "            result = model_infer(cropped_img)\n",
    "            r = result[0]\n",
    "            x = r.probs\n",
    "            x_numpy = x.data.cpu().numpy()\n",
    "            max_index = np.argmax(x_numpy)\n",
    "            names = r.names\n",
    "            pred = names[max_index].replace('_', ' ')\n",
    "            final_tocsv.append((extract_image_number(img_path), pred))\n",
    "            \n",
    "    except Exception as e:\n",
    "        print(i, 'err', e)\n",
    "        final_still_err.append(img_path)\n",
    "        continue"
   ]
  },
  {
   "cell_type": "code",
   "execution_count": 19,
   "metadata": {},
   "outputs": [
    {
     "name": "stdout",
     "output_type": "stream",
     "text": [
      "0 758 319 23 1167\n"
     ]
    }
   ],
   "source": [
    "print(len(final_noFace), len(final_multiFace), len(final_singleFace), len(final_still_err), len(final_tocsv))\n",
    "print(len(final_tocsv))\n",
    "print(len(to_csv))"
   ]
  },
  {
   "cell_type": "code",
   "execution_count": 26,
   "metadata": {},
   "outputs": [],
   "source": [
    "x = final_tocsv + to_csv"
   ]
  },
  {
   "cell_type": "markdown",
   "metadata": {},
   "source": [
    "### Final - Modify Past CSV"
   ]
  },
  {
   "cell_type": "code",
   "execution_count": null,
   "metadata": {},
   "outputs": [],
   "source": [
    "filename = '/home/bridge/c/nvijayas/ECE50024/test_output_try4.csv'\n",
    "new_filename = '/home/bridge/c/nvijayas/ECE50024/test_output_try5.csv'\n",
    "\n",
    "with open(filename, mode='r', newline='', encoding='utf-8') as csvfile:\n",
    "    reader = csv.reader(csvfile)\n",
    "    headers = next(reader)\n",
    "    # Convert all rows into a list of dictionaries for easier manipulation\n",
    "    rows = [dict(zip(headers, row)) for row in reader]\n",
    "\n",
    "# Modify the specified rows\n",
    "for id_to_modify, new_category in x:#final_tocsv:\n",
    "    for row in rows:\n",
    "        if int(row['ID']) == id_to_modify:\n",
    "            old_category = row['Category']  # Store the old category before changing it\n",
    "            row['Category'] = new_category  # Update to the new category\n",
    "            # Print the change for this row\n",
    "            print(f\"ID {id_to_modify}, old - {old_category} --> new - {new_category}\")"
   ]
  },
  {
   "cell_type": "code",
   "execution_count": 37,
   "metadata": {},
   "outputs": [],
   "source": [
    "with open(new_filename, mode='w', newline='', encoding='utf-8') as new_csvfile:\n",
    "    writer = csv.DictWriter(new_csvfile, fieldnames=headers)\n",
    "    writer.writeheader()\n",
    "    writer.writerows(rows)"
   ]
  },
  {
   "cell_type": "markdown",
   "metadata": {},
   "source": [
    "### Final - Make CSV"
   ]
  },
  {
   "cell_type": "code",
   "execution_count": 63,
   "metadata": {},
   "outputs": [],
   "source": [
    "to_csv_err = [(i, 'Aaron Paul') for i in still_err]\n",
    "to_csv_final = to_csv + to_csv2 + to_csv_err\n",
    "dict_to_csv_final = {tup[0]: tup[1] for tup in to_csv_final}"
   ]
  },
  {
   "cell_type": "code",
   "execution_count": 72,
   "metadata": {},
   "outputs": [
    {
     "name": "stdout",
     "output_type": "stream",
     "text": [
      "23\n",
      "[(132, 'Aaron Paul'), (238, 'Aaron Paul'), (361, 'Aaron Paul'), (991, 'Aaron Paul'), (1280, 'Aaron Paul'), (1639, 'Aaron Paul'), (1735, 'Aaron Paul'), (2166, 'Aaron Paul'), (2324, 'Aaron Paul'), (2517, 'Aaron Paul'), (2651, 'Aaron Paul'), (3368, 'Aaron Paul'), (3404, 'Aaron Paul'), (3570, 'Aaron Paul'), (3663, 'Aaron Paul'), (3802, 'Aaron Paul'), (4175, 'Aaron Paul'), (4204, 'Aaron Paul'), (4342, 'Aaron Paul'), (4684, 'Aaron Paul'), (4826, 'Aaron Paul'), (4847, 'Aaron Paul'), (4862, 'Aaron Paul')]\n"
     ]
    }
   ],
   "source": [
    "print(len(to_csv_err))\n",
    "print(to_csv_err)"
   ]
  },
  {
   "cell_type": "code",
   "execution_count": 66,
   "metadata": {},
   "outputs": [],
   "source": [
    "filename = \"/home/bridge/c/nvijayas/ECE50024/test_output_try2.csv\"\n",
    "\n",
    "with open(filename, mode='w', newline='') as file:\n",
    "    writer = csv.writer(file)\n",
    "    writer.writerow([\"ID\", \"Category\"])\n",
    "\n",
    "    for i in range(4977):\n",
    "        category = dict_to_csv_final.get(i, 'Aaron Paul')\n",
    "        writer.writerow([i, category])"
   ]
  }
 ],
 "metadata": {
  "kernelspec": {
   "display_name": "env",
   "language": "python",
   "name": "python3"
  },
  "language_info": {
   "codemirror_mode": {
    "name": "ipython",
    "version": 3
   },
   "file_extension": ".py",
   "mimetype": "text/x-python",
   "name": "python",
   "nbconvert_exporter": "python",
   "pygments_lexer": "ipython3",
   "version": "3.10.0"
  }
 },
 "nbformat": 4,
 "nbformat_minor": 2
}
